{
 "cells": [
  {
   "cell_type": "code",
   "execution_count": 5,
   "metadata": {},
   "outputs": [],
   "source": [
    "import cv2, os, numpy as np"
   ]
  },
  {
   "cell_type": "code",
   "execution_count": 6,
   "metadata": {},
   "outputs": [],
   "source": [
    "from os import listdir\n",
    "from os.path import isfile\n",
    "mypath = \"C:/Users/Admin/Desktop/Code/wsop/WSOP-daily-bliz/card/\"\n",
    "cardfile = [mypath+f for f in listdir(mypath)]\n",
    "mypath = \"C:/Users/Admin/Desktop/Code/wsop/WSOP-daily-bliz/phototest/\"\n",
    "imagefile = [mypath+f for f in listdir(mypath) if len(f)==5 or len(f)==6]"
   ]
  },
  {
   "cell_type": "code",
   "execution_count": 7,
   "metadata": {},
   "outputs": [],
   "source": [
    "def rotate_image(image, angle):\n",
    "  image_center = tuple(np.array(image.shape[1::-1]) / 2)\n",
    "  rot_mat = cv2.getRotationMatrix2D(image_center, angle, 1)\n",
    "  result = cv2.warpAffine(image, rot_mat, image.shape[1::-1], flags=cv2.INTER_LINEAR)\n",
    "  return result"
   ]
  },
  {
   "cell_type": "code",
   "execution_count": 8,
   "metadata": {},
   "outputs": [],
   "source": [
    "def show_image(image):\n",
    "    cv2.imshow(\"result\", image)\n",
    "    cv2.waitKey()\n",
    "    cv2.destroyAllWindows()"
   ]
  },
  {
   "cell_type": "code",
   "execution_count": 9,
   "metadata": {},
   "outputs": [
    {
     "name": "stdout",
     "output_type": "stream",
     "text": [
      "23.png\n"
     ]
    }
   ],
   "source": [
    "for image in imagefile:\n",
    "    test_img = cv2.imread(image, cv2.IMREAD_GRAYSCALE) \n",
    "    \n",
    "    \n",
    "    mid_img = test_img[280:900, 420:1500]\n",
    "     # cv2.imwrite(image.split('/')[-1], mid_img)\n",
    "    print(image.split('/')[-1])\n",
    "    show_image(mid_img)\n",
    "    \n",
    "    test_img = rotate_image(test_img,-10)\n",
    "    left_img = test_img[540:810, 400:550]\n",
    "    # cv2.imwrite(image.split('/')[-1], left_img)\n",
    "    show_image(left_img)\n",
    "    \n",
    "    test_img = rotate_image(test_img,20)\n",
    "    right_img = test_img[540:810, 1300:1600]\n",
    "    # cv2.imwrite(image.split('/')[-1], right_img)\n",
    "    show_image(right_img)\n",
    "    "
   ]
  }
 ],
 "metadata": {
  "interpreter": {
   "hash": "183bbf6827d058c2a2fb0f4acdc0420849dda2b4380af0e437e38c64d798d8b7"
  },
  "kernelspec": {
   "display_name": "Python 3.8.8 64-bit ('base': conda)",
   "language": "python",
   "name": "python3"
  },
  "language_info": {
   "codemirror_mode": {
    "name": "ipython",
    "version": 3
   },
   "file_extension": ".py",
   "mimetype": "text/x-python",
   "name": "python",
   "nbconvert_exporter": "python",
   "pygments_lexer": "ipython3",
   "version": "3.8.8"
  },
  "orig_nbformat": 4
 },
 "nbformat": 4,
 "nbformat_minor": 2
}
